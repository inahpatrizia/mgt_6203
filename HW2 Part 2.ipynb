{
 "cells": [
  {
   "cell_type": "markdown",
   "metadata": {
    "deletable": false,
    "editable": false,
    "nbgrader": {
     "grade": false,
     "locked": true,
     "solution": false
    }
   },
   "source": [
    "# MGT6203 HW2 Part 2"
   ]
  },
  {
   "cell_type": "markdown",
   "metadata": {
    "deletable": false,
    "editable": false,
    "nbgrader": {
     "grade": false,
     "locked": true,
     "solution": false
    }
   },
   "source": [
    "## Instructions:\n",
    "\n",
    "\n",
    "**For Homework 2 Part 2, please use this R notebook in Vocareum to submit your solutions. Vocareum is an educational cloud platform for programming in several languages; it is based on the Jupyter notebook environment. This platform allows us to move homework assignments to the cloud. The advantages are that all of you will be working in the same coding environment AND peer reviewers will be able to run your R code easily. This way we eliminate some issues we might encounter when working on an individual/local basis, such as library installations and Rstudio OS requirements; R notebooks work on mobile platforms and tablets.**\n",
    "\n",
    "**With R notebooks, you will be learning a new way of presenting data analysis reports, that is neat and flexible, where formatted (English) text and (R) code can easily coexist on the same page. Notebooks can be also collaborative when needed. For now, we are asking each of you to do your own work for homework. Think of R notebooks as interactive program-based Google docs or MS-Office 360 docs; these are gradually replacing local files on our computers. **\n",
    "\n",
    "**Many of you are new to the R notebooks and Vocareum platforms. We will provide TA help in Piazza with specific code if you have questions. Here we list some important things to get you started. Please read through them carefully.**\n",
    "\n",
    "\n",
    "<ol>\n",
    "<li>Even though we are moving from your local envrionment to the cloud, **our expectations from your homework will remain the same**. Same goes for the rubrics.</li>\n",
    "\n",
    "<li>Vocareum has its own cloud based file system, the data files you will be using for the assignments will be stored in the cloud with path **\"../resource/asnlib/publicdata/FILENAME.csv\"**. You will be able to import them with the same method as you do in RStudio, simply substitute the path name to the one specified in the instructions. You won't be able to modify these data files.</li>\n",
    "\n",
    "<li>You will be able to find the data files on Canvas/EdX if you would like to explore them offline.</li>\n",
    "\n",
    "<li>**For coding questions, you will be graded on the R code as well as the output** in your submission.</li>\n",
    "\n",
    "<li>**For interpretations or short response questions, please type the answers in the notebook's markdown cells**. To change a code cell to a markdown cell, click on the cell, and in the dropdown menu above, switch the type of the cell block from \"code\" to \"markdown\". **Adding print statements to code cells for short response/interpretation questions is also fine, as long as we can clearly see the output of your response**.</li>\n",
    "\n",
    "<li>You don't need to, but if you would like to learn more about how to format your markdown cells, visit the following site: https://www.earthdatascience.org/courses/intro-to-earth-data-science/file-formats/use-text-files/format-text-with-markdown-jupyter-notebook/. Jupyter notebook also support LaTeX.</li>\n",
    "\n",
    "<li>**Feel free to delete or add as many additional cells as you need**. But please try to keep your notebook clean and keep your solution to a question directly under that question to avoid confusions.</li>\n",
    "\n",
    "<li>You may delete the #SOLUTION BEGINS/ENDS HERE comments from the cell blocks, they are just pointers that indicates where to put you solutions.</li>\n",
    "\n",
    "<li>**When you have finished the assignment, remember to rerun your notebook to check if it runs correctly.** You can do so by going to **Kernel-> Restart & Run All**. You may lose points if your solutions does not run successfully.</li>\n",
    "\n",
    "<li>**Click the \"Submit\" button on the top right corner to turn in your assignment**. Your assignment will enter the next phase for peer review.</li>\n",
    "\n",
    "<li>**You are allowed a total of 2 submissions for this assignment. So make sure that you submit your responses carefully. You will be able to come back and resubmit your assignment as long as it is before the start of the peer review period.</li>\n",
    "\n",
    "<li>**Please remember to finish the peer reviews after you have submitted your assignment.** You are responsible for grading the work of three of your peers thoroughly, and in addherence to the rubrics. And you will be held accountable for peer grading. **There will be a 30% penalty to your grade if you fail to complete one or more peer reviews in proper fashion.**</li>\n",
    "\n",
    "<li>This is the first time we implement this homework system in the MGT6203, feel free to address your questions, concerns, and provide any feedback on Piazza. We will continuously try to improve going forward.</li>\n",
    "\n",
    "<li>Good Luck!</li>\n",
    "\n",
    "</ol>\n",
    "\n"
   ]
  },
  {
   "cell_type": "markdown",
   "metadata": {
    "deletable": false,
    "editable": false,
    "nbgrader": {
     "grade": false,
     "locked": true,
     "solution": false
    }
   },
   "source": [
    "# About Package Installation:\n",
    "\n",
    "Most of the packages (if not all) that you will need to complete this assignment are already installed in this environment. An easy way to check this is to run the command: library(PackageName). If this command runs successfully then the package was already installed and has been successfully attached to the code. If the command gave an error saying the Package was not found then follow the steps below to successfully install the package and attach it to the code: \n",
    "\n",
    "Use *installed.packages()* command to return a table of the packages that are preinstalled in the environment.\n",
    "\n",
    "To attach a preinstalled library in Vocareum, simply use *library(PackageName)*\n",
    "\n",
    "**To install a package that does not come with the provided environment, please use the following syntax:**\n",
    "\n",
    "*install.packages(\"PackageName\", lib=\"../work/\")*\n",
    "\n",
    "**To attach a library you just installed, use the following syntax:**\n",
    "\n",
    "*library(PackageName, lib.loc=\"../work/\")*\n",
    "\n",
    "Make sure the file location is the same as the above code snippets *(\"../work/\")*\n",
    "\n",
    "\n"
   ]
  },
  {
   "cell_type": "markdown",
   "metadata": {
    "deletable": false,
    "editable": false,
    "nbgrader": {
     "grade": false,
     "locked": true,
     "solution": false
    }
   },
   "source": [
    "## Q1. (30 Points Total)\n",
    "\n",
    "### For part A and B:\n",
    "\n",
    "\"PlantGrowth\" is a dataset in R that contains crop weights of a control group and two treatment groups.   \n",
    "\n",
    "*#Code to Get Data*\n",
    "\n",
    "*library(datasets)*\n",
    "\n",
    "*data(PlantGrowth)*\n",
    "\n",
    "**Perform the following operations:  Create two separate datasets, one with datapoints of treatment 1 group along with control group and other with datapoints of treatment 2 group with the control group.**\n"
   ]
  },
  {
   "cell_type": "markdown",
   "metadata": {
    "deletable": false,
    "editable": false,
    "nbgrader": {
     "grade": false,
     "locked": true,
     "solution": false
    }
   },
   "source": [
    "### A. Now compute the difference estimator for treatment 1 and treatment 2 datasets that were created, in comparison with the control group. (5 Points)"
   ]
  },
  {
   "cell_type": "code",
   "execution_count": null,
   "metadata": {
    "collapsed": true
   },
   "outputs": [],
   "source": [
    "# Import the data\n",
    "library(datasets)\n",
    "library(dplyr)\n",
    "print(summary(PlantGrowth))\n",
    "\n",
    "# Create two datasets\n",
    "group1 <- PlantGrowth %>% filter(PlantGrowth$group %in% c('ctrl', 'trt1'))\n",
    "\n",
    "group2 <- PlantGrowth %>% filter(PlantGrowth$group %in% c('ctrl', 'trt2'))\n",
    "\n",
    "group1_model <- lm(weight ~ group, data = group1)\n",
    "group2_model <- lm(weight ~ group, data = group2)\n",
    "\n",
    "summary(group1_model)\n",
    "summary(group2_model)\n",
    "\n",
    "group1_difference_estimator <- summary(group1_model)$coefficients[2,1]\n",
    "group2_difference_estimator <- summary(group2_model)$coefficients[2,1]\n",
    "\n",
    "cat(\"The difference estimator for treatment 1 is: \", group1_difference_estimator, \"\\n\")\n",
    "cat(\"The difference estimator for treatment 2 is: \", group2_difference_estimator)"
   ]
  },
  {
   "cell_type": "markdown",
   "metadata": {
    "deletable": false,
    "editable": false,
    "nbgrader": {
     "grade": false,
     "locked": true,
     "solution": false
    }
   },
   "source": [
    "### B. From the 'PlantGrowth' dataset, what is the average crop weight of the control group, treatment 1 group, and treatment 2 group? Comment on which group has the highest average. (6 Points)"
   ]
  },
  {
   "cell_type": "code",
   "execution_count": null,
   "metadata": {
    "collapsed": true
   },
   "outputs": [],
   "source": [
    "plant_summary <- summarize(group_by(PlantGrowth, group), avg = mean(weight)) \n",
    "\n",
    "cat(\" Control Group Average: \", plant_summary[plant_summary$group=='ctrl',]$avg, \"\\n\", \n",
    "    \"Treatment 1 Group Average: \", plant_summary[plant_summary$group=='trt1',]$avg, \"\\n\", \n",
    "    \"Treatment 2 Group Average: \", plant_summary[plant_summary$group=='trt2',]$avg,\"\\n\", \n",
    "   \"The Control Group has the highest weight average. \"\n",
    "   )"
   ]
  },
  {
   "cell_type": "markdown",
   "metadata": {
    "deletable": false,
    "editable": false,
    "nbgrader": {
     "grade": false,
     "locked": true,
     "solution": false
    }
   },
   "source": [
    "### For Parts C,D, and E: \n",
    "\n",
    "**Use the Dataset “Min_Wage.csv” and the information below to answer the questions.**\n",
    "\n",
    "The Minimum Wage Law protects the right of workers to get a minimum wage. Consider a scenario where the law of minimum wage was changed just in the state of New Jersey (i.e., law has not been changed in other states).  We want to use the data from company XYZ to observe the difference in hours worked by full time employees in New Jersey before and after the law was changed.  \n",
    "\n",
    "Note: The variable 'State’ indicates the citizenship of the worker, i.e., State = New Jersey ,the worker is from NJ, else worker is not from NJ (is from Philadelphia).    \n",
    "\n",
    "Note: The variable 'fte' contains the number of hours worked by an employee.   \n",
    "\n",
    "Note: The variable 'd' indicates whether or not the data was collected before or after the law changed, i.e. d = 1 indicates the data was collected after the law was changed, and d = 0 indicates the data was collected before the law was changed.\n",
    "\n",
    "**Note: The file \"Min_Wage.csv\" can be accessed at the path: (\"../resource/asnlib/publicdata/Min_Wage.csv\").\n",
    "E.g. read.csv(\"../resource/asnlib/publicdata/Min_Wage.csv\")**"
   ]
  },
  {
   "cell_type": "markdown",
   "metadata": {
    "deletable": false,
    "editable": false,
    "nbgrader": {
     "grade": false,
     "locked": true,
     "solution": false
    }
   },
   "source": [
    "### C. In the above problem, classify the workers into four groups and assign the corresponding group with the group title (A,B,C, and D) where the group titles are as follows:   (8 Points)\n",
    "\n",
    "| |Before|After|\n",
    "|------|------|------|\n",
    "|Control|A|C|\n",
    "|Treated|B|D|\n",
    "\n",
    "Note: This is a theoretical question, you just need to identify each group with a short description of what the group is. You don’t need to create a column categorizing the datapoints into groups."
   ]
  },
  {
   "cell_type": "code",
   "execution_count": null,
   "metadata": {
    "collapsed": true
   },
   "outputs": [],
   "source": [
    "plant_summary <- summarize(group_by(PlantGrowth, group), avg = mean(weight)) \n",
    "\n",
    "cat(\" Control Group Average: \", plant_summary[plant_summary$group=='ctrl',]$avg, \"\\n\", \n",
    "    \"Treatment 1 Group Average: \", plant_summary[plant_summary$group=='trt1',]$avg, \"\\n\", \n",
    "    \"Treatment 2 Group Average: \", plant_summary[plant_summary$group=='trt2',]$avg,\"\\n\", \n",
    "   \"The Control Group has the highest weight average. \"\n",
    "   )"
   ]
  },
  {
   "cell_type": "markdown",
   "metadata": {
    "deletable": false,
    "editable": false,
    "nbgrader": {
     "grade": false,
     "locked": true,
     "solution": false
    }
   },
   "source": [
    "### D. To estimate the difference in difference we need four averages for the above categorized groups i.e., control group before change, control group after change, treatment group before change and treatment group after change. Compute the following: (7 Points)"
   ]
  },
  {
   "cell_type": "markdown",
   "metadata": {
    "deletable": false,
    "editable": false,
    "nbgrader": {
     "grade": false,
     "locked": true,
     "solution": false
    }
   },
   "source": [
    "#### i. Calculate the mean of the 'fte' variable for each of the four groups in R and print them. (4 Points)"
   ]
  },
  {
   "cell_type": "code",
   "execution_count": null,
   "metadata": {
    "collapsed": true
   },
   "outputs": [],
   "source": [
    "plant_summary <- summarize(group_by(PlantGrowth, group), avg = mean(weight)) \n",
    "\n",
    "cat(\" Control Group Average: \", plant_summary[plant_summary$group=='ctrl',]$avg, \"\\n\", \n",
    "    \"Treatment 1 Group Average: \", plant_summary[plant_summary$group=='trt1',]$avg, \"\\n\", \n",
    "    \"Treatment 2 Group Average: \", plant_summary[plant_summary$group=='trt2',]$avg,\"\\n\", \n",
    "   \"The Control Group has the highest weight average. \"\n",
    "   )"
   ]
  },
  {
   "cell_type": "markdown",
   "metadata": {
    "deletable": false,
    "editable": false,
    "nbgrader": {
     "grade": false,
     "locked": true,
     "solution": false
    }
   },
   "source": [
    "#### ii. Using these averages, estimate the value of the difference in difference. (3 Points)"
   ]
  },
  {
   "cell_type": "code",
   "execution_count": null,
   "metadata": {
    "collapsed": true
   },
   "outputs": [],
   "source": [
    "# Difference in Difference = (D-B) - (C-A)\n",
    "# d <- fte_summary[fte_summary$State=='New Jersey' && fte_summary$d==1]$avg\n",
    "\n",
    "d <- (fte_summary %>% filter(State == 'New Jersey', d == 1))$avg\n",
    "b <- (fte_summary %>% filter(State == 'New Jersey', d == 0))$avg\n",
    "c <- (fte_summary %>% filter(State != 'New Jersey', d == 1))$avg\n",
    "a <- (fte_summary %>% filter(State != 'New Jersey', d == 0))$avg\n",
    "\n",
    "diff_in_diff <- (d-b)-(c-a)\n",
    "\n",
    "cat(\" The difference in difference estimator is\",diff_in_diff,\".\")"
   ]
  },
  {
   "cell_type": "markdown",
   "metadata": {
    "deletable": false,
    "editable": false,
    "nbgrader": {
     "grade": false,
     "locked": true,
     "solution": false
    }
   },
   "source": [
    "### E.  Estimate the DID (Difference in Difference) using regression model.  (4 Points)"
   ]
  },
  {
   "cell_type": "code",
   "execution_count": null,
   "metadata": {
    "collapsed": true
   },
   "outputs": [],
   "source": [
    "# Difference in Difference = (D-B) - (C-A)\n",
    "# d <- fte_summary[fte_summary$State=='New Jersey' && fte_summary$d==1]$avg\n",
    "\n",
    "d <- (fte_summary %>% filter(State == 'New Jersey', d == 1))$avg\n",
    "b <- (fte_summary %>% filter(State == 'New Jersey', d == 0))$avg\n",
    "c <- (fte_summary %>% filter(State != 'New Jersey', d == 1))$avg\n",
    "a <- (fte_summary %>% filter(State != 'New Jersey', d == 0))$avg\n",
    "\n",
    "diff_in_diff <- (d-b)-(c-a)\n",
    "\n",
    "cat(\" The difference in difference estimator is\",diff_in_diff,\".\")"
   ]
  },
  {
   "cell_type": "markdown",
   "metadata": {
    "deletable": false,
    "editable": false,
    "nbgrader": {
     "grade": false,
     "locked": true,
     "solution": false
    }
   },
   "source": [
    "## Q2.  (10 Points Total)\n",
    "\n",
    "For the following questions, use the dataset Berkshire.csv with the following variables:  \n",
    "\n",
    "||Column Name |Description|\n",
    "|------|------|------|\n",
    "|1|Date|Calendat Date|\n",
    "|2|BRKret|Berkshire Hathaway’s monthly return|\n",
    "|3|MKT|the return on the aggregate stock market|\n",
    "|4|RF|the risk free rate of return|\n",
    "\n",
    "You may/may not need the following dependencies:  \n",
    "\n",
    "“lubridate” package which is already installed in R in Vocareum.\n",
    "\n",
    "“PerformanceAnalytics” package which can be installed as indicated at the beginning of this homework.\n",
    "\n",
    "\n",
    "**Note: The file \"Berkshire.csv\" can be accessed at the path: (\"../resource/asnlib/publicdata/Berkshire.csv\").\n",
    "E.g. read.csv(\"../resource/asnlib/publicdata/Berkshire.csv\")**\n",
    "\n",
    "**Round all answers to the nearest hundredth.**"
   ]
  },
  {
   "cell_type": "markdown",
   "metadata": {
    "deletable": false,
    "editable": false,
    "nbgrader": {
     "grade": false,
     "locked": true,
     "solution": false
    }
   },
   "source": [
    "### A. Find the standard deviation of Berkshire Hathaway over the sample period. (2 Points)"
   ]
  },
  {
   "cell_type": "code",
   "execution_count": null,
   "metadata": {
    "collapsed": true
   },
   "outputs": [],
   "source": [
    "# Import packages and data\n",
    "library(PerformanceAnalytics)\n",
    "library(xts)\n",
    "library(lubridate)\n",
    "berkshire0 <- read.csv(\"../resource/asnlib/publicdata/Berkshire.csv\")\n",
    "\n",
    "# Convert to date and create a time series data set\n",
    "berkshire0$Date <- mdy(berkshire0$Date)\n",
    "berkshire0 <- berkshire0[order(berkshire0$Date),]\n",
    "berkshire <- xts(berkshire0[,-1],order.by = berkshire0[,1],)\n",
    "\n",
    "berk_sd = sd(berkshire$BrkRet)\n",
    "\n",
    "cat(\" The standard deviation of Berkshire Hathaway is\", round(berk_sd*100,2),\"%.\")"
   ]
  },
  {
   "cell_type": "markdown",
   "metadata": {
    "deletable": false,
    "editable": false,
    "nbgrader": {
     "grade": false,
     "locked": true,
     "solution": false
    }
   },
   "source": [
    "### B. Find Berkshire Hathaway’s average return over the sample period. (2 Points)\n",
    "    \n",
    "    "
   ]
  },
  {
   "cell_type": "code",
   "execution_count": null,
   "metadata": {
    "collapsed": true
   },
   "outputs": [],
   "source": [
    "berk_mean = mean(berkshire$BrkRet)\n",
    "cat(\" The average return of Berkshire Hathaway during the sample period is\", round(berk_mean*100,2),\"%.\")"
   ]
  },
  {
   "cell_type": "markdown",
   "metadata": {
    "deletable": false,
    "editable": false,
    "nbgrader": {
     "grade": false,
     "locked": true,
     "solution": false
    }
   },
   "source": [
    "### C. By what percentage per month on average has Berkshire Hathaway outperformed the market? (2 Points)"
   ]
  },
  {
   "cell_type": "code",
   "execution_count": null,
   "metadata": {
    "collapsed": true
   },
   "outputs": [],
   "source": [
    "berkshire$diff = berkshire$BrkRet - berkshire$MKT\n",
    "diff_mean = mean(berkshire$diff)\n",
    "\n",
    "cat(\" On average, Berkshire Hathaway has outperformed the market by\", round(diff_mean*100,2),\"% on a monthly basis.\")"
   ]
  },
  {
   "cell_type": "markdown",
   "metadata": {
    "deletable": false,
    "editable": false,
    "nbgrader": {
     "grade": false,
     "locked": true,
     "solution": false
    }
   },
   "source": [
    "### D. If $10,000 were invested in Berkshire Hathaway at the start of the sample period, how much would the investment have grown to by the end of the sample period? (2 Points)"
   ]
  },
  {
   "cell_type": "code",
   "execution_count": null,
   "metadata": {
    "collapsed": true
   },
   "outputs": [],
   "source": [
    "# This gives the dollar amount the original investment has grown by \n",
    "berk_return = Return.cumulative(berkshire$BrkRet,geometric = TRUE)*10000\n",
    "\n",
    "# To get the amount the investment has grown to, add the original $10K investment\n",
    "berk_return_final = berk_return+10000\n",
    "\n",
    "cat(\" If $10,000 was invested in Berkshire Hathaway at the start of the sample period, the investment would have grown to \\n $\", format(berk_return_final,big.mark=\",\",scientific=FALSE),\"by the end of the sample period\")"
   ]
  },
  {
   "cell_type": "markdown",
   "metadata": {
    "deletable": false,
    "editable": false,
    "nbgrader": {
     "grade": false,
     "locked": true,
     "solution": false
    }
   },
   "source": [
    "### E. Plot the cumulative return of Berkshire and Market across all years and include a legend. Describe your observation. (2 Points)"
   ]
  },
  {
   "cell_type": "code",
   "execution_count": null,
   "metadata": {
    "collapsed": true
   },
   "outputs": [],
   "source": [
    "chart.CumReturns(berkshire[,1:2],wealth.index = FALSE, geometric = TRUE, legend.loc = 'topleft', main=\"Cumulative Return of Berkshire Hathaway vs Market\")\n",
    "\n",
    "cat(\"Observation: \\n Berkshire Hathaway began to consistently outperform the market in \\n January 1988. Despite a decrease in growth after January 2008, the fund saw its most rapid growth after January 2012 \\n and January 2016.\")"
   ]
  }
 ],
 "metadata": {
  "kernelspec": {
   "display_name": "R 4.0.2",
   "language": "R",
   "name": "ir-4.0.2"
  },
  "language_info": {
   "codemirror_mode": "r",
   "file_extension": ".r",
   "mimetype": "text/x-r-source",
   "name": "R",
   "pygments_lexer": "r",
   "version": "4.0.2"
  }
 },
 "nbformat": 4,
 "nbformat_minor": 2
}
